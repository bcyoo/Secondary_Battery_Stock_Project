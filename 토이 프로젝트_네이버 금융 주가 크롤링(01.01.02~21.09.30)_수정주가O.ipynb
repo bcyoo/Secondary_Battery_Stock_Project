{
 "cells": [
  {
   "cell_type": "markdown",
   "id": "5fed4aa3",
   "metadata": {},
   "source": [
    "1. 프로젝트 수행목적, 동기\n",
    "2. 사용할 데이터의 변수 설명 (수집경로, 단위 포함)\n",
    "3. 최소 10,000개 샘플 사용\n",
    "4. 모델 선택 및 최적화과정 포함\n",
    "5. 솔루션 제공 및 문제점 도출"
   ]
  },
  {
   "cell_type": "markdown",
   "id": "b6e8d9f4",
   "metadata": {},
   "source": [
    "# 다음 금융"
   ]
  },
  {
   "cell_type": "code",
   "execution_count": null,
   "id": "daafdf9e",
   "metadata": {
    "ExecuteTime": {
     "start_time": "2021-11-13T16:39:13.977Z"
    },
    "scrolled": true
   },
   "outputs": [],
   "source": [
    "# 필요패키지 import\n",
    "import numpy as np\n",
    "import pandas as pd\n",
    "import requests # 크롤링에 사용하는 패키지\n",
    "from bs4 import BeautifulSoup # html 변환에 사용함\n",
    "import time\n",
    "import json # 동적 크롤링을 위한 json\n",
    "import csv # csv 파일 저장\n",
    "\n",
    "\n",
    "# 단일 종목 설정\n",
    "code = input('종목코드를 입력하세요: ')\n",
    "\n",
    "# 기준 날짜 : 2001.01.02 ~ 2021.10.01\n",
    "start_date = '20010102'\n",
    "end_date = '20211001'\n",
    "\n",
    "# url 정의\n",
    "url = f'https://api.finance.naver.com/siseJson.naver?symbol={code}&requestType=1&startTime={start_date}&endTime={end_date}&timeframe=day'\n",
    "\n",
    "# requests로 url에 정보요청\n",
    "# Request Method: POST\n",
    "response = requests.post(url)\n",
    "\n",
    "# 정보를 html로 변환\n",
    "html = BeautifulSoup(response.text, 'html.parser')\n",
    "\n",
    "# html 내에서 빈칸처리\n",
    "data = html.text.strip().replace(\"\\n\",\"\").replace(\"\\t\",\"\")\n",
    "\n",
    "# 불러온 데이터가 '문자열'이라 '리스트' 형태로 변환\n",
    "total_data = eval(data)\n",
    "\n",
    "# 데이터 프레임 생성\n",
    "df = pd.DataFrame(total_data[1:])\n",
    "\n",
    "# 데이터 프레임의 column 이름 변경\n",
    "df = df.rename(columns={0 : '날짜', 1 : '시가', 2 : '고가', 3 : '저가', 4 : '종가', 5 : '거래량', 6 : '외국인소진율'})\n",
    "\n",
    "# 데이터 프레임의 '날짜' column을 index로 설정\n",
    "total_df = df.set_index('날짜')\n",
    "\n",
    "# # 최종 주가 데이터\n",
    "# total_df\n",
    "\n",
    "# 데이터프레임 저장 (.gz를 통해 압축저장 가능)\n",
    "df.to_csv(f'./data/A{code}_total_data(수정주가).csv', index=False, encoding='utf-8-sig')"
   ]
  }
 ],
 "metadata": {
  "kernelspec": {
   "display_name": "Python 3",
   "language": "python",
   "name": "python3"
  },
  "language_info": {
   "codemirror_mode": {
    "name": "ipython",
    "version": 3
   },
   "file_extension": ".py",
   "mimetype": "text/x-python",
   "name": "python",
   "nbconvert_exporter": "python",
   "pygments_lexer": "ipython3",
   "version": "3.8.8"
  },
  "toc": {
   "base_numbering": 1,
   "nav_menu": {},
   "number_sections": true,
   "sideBar": true,
   "skip_h1_title": false,
   "title_cell": "Table of Contents",
   "title_sidebar": "Contents",
   "toc_cell": false,
   "toc_position": {},
   "toc_section_display": true,
   "toc_window_display": false
  },
  "varInspector": {
   "cols": {
    "lenName": 16,
    "lenType": 16,
    "lenVar": 40
   },
   "kernels_config": {
    "python": {
     "delete_cmd_postfix": "",
     "delete_cmd_prefix": "del ",
     "library": "var_list.py",
     "varRefreshCmd": "print(var_dic_list())"
    },
    "r": {
     "delete_cmd_postfix": ") ",
     "delete_cmd_prefix": "rm(",
     "library": "var_list.r",
     "varRefreshCmd": "cat(var_dic_list()) "
    }
   },
   "types_to_exclude": [
    "module",
    "function",
    "builtin_function_or_method",
    "instance",
    "_Feature"
   ],
   "window_display": false
  }
 },
 "nbformat": 4,
 "nbformat_minor": 5
}
